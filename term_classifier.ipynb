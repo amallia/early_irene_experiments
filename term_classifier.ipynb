{
 "metadata": {
  "name": "",
  "signature": "sha256:c47051628bfc1903e7fa97afd0f4580815a0b0ffe255a0ed934d5e6bad670951"
 },
 "nbformat": 3,
 "nbformat_minor": 0,
 "worksheets": [
  {
   "cells": [
    {
     "cell_type": "code",
     "collapsed": false,
     "input": [
      "from sklearn.svm import SVC\n",
      "from sklearn.linear_model import SGDClassifier\n",
      "from sklearn.feature_extraction import DictVectorizer\n",
      "from sklearn.ensemble import ExtraTreesClassifier, AdaBoostClassifier\n",
      "from sklearn import metrics\n",
      "%matplotlib inline\n",
      "import matplotlib.pyplot as plt\n",
      "import gzip\n",
      "import json\n",
      "import numpy as np\n",
      "from collections import defaultdict, Counter"
     ],
     "language": "python",
     "metadata": {},
     "outputs": [],
     "prompt_number": 195
    },
    {
     "cell_type": "code",
     "collapsed": false,
     "input": [
      "truth_deltas = {}\n",
      "with gzip.GzipFile(\"truths.json.gz\", 'r') as fp:\n",
      "    truth_deltas = json.loads(fp.read().decode(\"UTF-8\"))"
     ],
     "language": "python",
     "metadata": {},
     "outputs": [],
     "prompt_number": 196
    },
    {
     "cell_type": "code",
     "collapsed": false,
     "input": [
      "instances = defaultdict(list)\n",
      "\n",
      "try:\n",
      "    with gzip.GzipFile(\"features.txt.gz\", 'r') as fp:\n",
      "        for i,line in enumerate(fp):\n",
      "            data = line.decode().strip().split(\"\\t\")\n",
      "            qid = data[0]\n",
      "            term = data[1]\n",
      "            features = data[2:]\n",
      "            dict_f = dict()\n",
      "            for i in range(len(features)//2):\n",
      "                fid = int(features[i*2])\n",
      "                fval = float(features[i*2+1])\n",
      "                dict_f[fid] = fval\n",
      "            instances[qid].append((term, dict_f))\n",
      "except EOFError:\n",
      "    print(\"INCOMPLETE!\")\n",
      "\n"
     ],
     "language": "python",
     "metadata": {},
     "outputs": [],
     "prompt_number": 197
    },
    {
     "cell_type": "code",
     "collapsed": false,
     "input": [
      "print(len(truth_deltas))"
     ],
     "language": "python",
     "metadata": {},
     "outputs": [
      {
       "output_type": "stream",
       "stream": "stdout",
       "text": [
        "249\n"
       ]
      }
     ],
     "prompt_number": 19
    },
    {
     "cell_type": "code",
     "collapsed": false,
     "input": [
      "queries = sorted(list(truth_deltas.keys()))\n",
      "\n",
      "train_qids = []\n",
      "test_qids = []\n",
      "for i,qid in enumerate(queries):\n",
      "    if (i % 2 == 0):\n",
      "        train_qids.append(qid)\n",
      "    else:\n",
      "        test_qids.append(qid)\n",
      "\n",
      "#for qid in queries:\n",
      "#    tflist = instances[qid]\n",
      "#    for (term,dict_f) in tflist:\n",
      "#        print(qid, term)"
     ],
     "language": "python",
     "metadata": {},
     "outputs": [],
     "prompt_number": 198
    },
    {
     "cell_type": "code",
     "collapsed": false,
     "input": [
      "vocab = DictVectorizer(sparse=False)\n",
      "\n",
      "trainY = []\n",
      "trainXd = []\n",
      "trainQs = []\n",
      "trainTs = []\n",
      "testY = []\n",
      "testXd = []\n",
      "testQs = []\n",
      "testTs = []\n",
      "for qid in train_qids:\n",
      "    tfq = truth_deltas[qid]\n",
      "    for (term, dict_f) in instances[qid]:\n",
      "        if term not in tfq:\n",
      "            continue\n",
      "        trainQs.append(qid)\n",
      "        trainY.append(tfq[term]['ndcg'])\n",
      "        trainXd.append(dict_f)\n",
      "        trainTs.append(term)\n",
      "\n",
      "for qid in test_qids:\n",
      "    tfq = truth_deltas[qid]\n",
      "    for (term, dict_f) in instances[qid]:\n",
      "        if term not in tfq:\n",
      "            continue\n",
      "        testQs.append(qid)\n",
      "        testY.append(tfq[term]['ndcg'])\n",
      "        testXd.append(dict_f)\n",
      "        testTs.append(term)"
     ],
     "language": "python",
     "metadata": {},
     "outputs": [],
     "prompt_number": 199
    },
    {
     "cell_type": "code",
     "collapsed": false,
     "input": [
      "len(trainY), len(trainXd), len(testY), len(testXd)"
     ],
     "language": "python",
     "metadata": {},
     "outputs": [
      {
       "metadata": {},
       "output_type": "pyout",
       "prompt_number": 200,
       "text": [
        "(153305, 153305, 138730, 138730)"
       ]
      }
     ],
     "prompt_number": 200
    },
    {
     "cell_type": "code",
     "collapsed": false,
     "input": [
      "trainX = vocab.fit_transform(trainXd)\n",
      "testX = vocab.transform(testXd)"
     ],
     "language": "python",
     "metadata": {},
     "outputs": [],
     "prompt_number": 201
    },
    {
     "cell_type": "code",
     "collapsed": false,
     "input": [
      "trainY = np.array(trainY)\n",
      "testY = np.array(testY)\n",
      "\n",
      "ythresh = 0.01\n",
      "yp = trainY > ythresh\n",
      "print(Counter(yp))"
     ],
     "language": "python",
     "metadata": {},
     "outputs": [
      {
       "output_type": "stream",
       "stream": "stdout",
       "text": [
        "Counter({False: 132366, True: 20939})\n"
       ]
      }
     ],
     "prompt_number": 203
    },
    {
     "cell_type": "code",
     "collapsed": true,
     "input": [
      "paper_svm = SVC(kernel='rbf', probability=True, max_iter=5000, class_weight='balanced')\n",
      "paper_svm.fit(trainX, yp)"
     ],
     "language": "python",
     "metadata": {},
     "outputs": [
      {
       "output_type": "stream",
       "stream": "stdout",
       "text": [
        "[False False False ..., False False False]\n"
       ]
      },
      {
       "output_type": "stream",
       "stream": "stderr",
       "text": [
        "/usr/lib/python3/dist-packages/sklearn/svm/base.py:224: ConvergenceWarning: Solver terminated early (max_iter=5000).  Consider pre-processing your data with StandardScaler or MinMaxScaler.\n",
        "  % self.max_iter, ConvergenceWarning)\n"
       ]
      },
      {
       "metadata": {},
       "output_type": "pyout",
       "prompt_number": 91,
       "text": [
        "SVC(C=1.0, cache_size=200, class_weight='balanced', coef0=0.0,\n",
        "  decision_function_shape=None, degree=3, gamma='auto', kernel='rbf',\n",
        "  max_iter=5000, probability=True, random_state=None, shrinking=True,\n",
        "  tol=0.001, verbose=False)"
       ]
      }
     ],
     "prompt_number": 91
    },
    {
     "cell_type": "code",
     "collapsed": false,
     "input": [
      "print(paper_svm.score(trainX, yp))\n",
      "print(paper_svm.score(testX, testY > ythresh))"
     ],
     "language": "python",
     "metadata": {},
     "outputs": [
      {
       "output_type": "stream",
       "stream": "stdout",
       "text": [
        "0.0496656990966\n",
        "0.0844013551503"
       ]
      },
      {
       "output_type": "stream",
       "stream": "stdout",
       "text": [
        "\n"
       ]
      }
     ],
     "prompt_number": 92
    },
    {
     "cell_type": "code",
     "collapsed": false,
     "input": [
      "print(Counter(trainY > 0.0001))\n",
      "print(Counter(trainY > 0.001))\n",
      "print(Counter(trainY > 0.01))"
     ],
     "language": "python",
     "metadata": {},
     "outputs": [
      {
       "output_type": "stream",
       "stream": "stdout",
       "text": [
        "Counter({False: 114222, True: 39083})\n",
        "Counter({False: 117007, True: 36298})\n",
        "Counter({False: 132366, True: 20939})\n"
       ]
      }
     ],
     "prompt_number": 204
    },
    {
     "cell_type": "code",
     "collapsed": false,
     "input": [
      "faster = SGDClassifier(class_weight='balanced', n_iter=30)\n",
      "faster.fit(trainX, yp)"
     ],
     "language": "python",
     "metadata": {},
     "outputs": [
      {
       "metadata": {},
       "output_type": "pyout",
       "prompt_number": 205,
       "text": [
        "SGDClassifier(alpha=0.0001, average=False, class_weight='balanced',\n",
        "       epsilon=0.1, eta0=0.0, fit_intercept=True, l1_ratio=0.15,\n",
        "       learning_rate='optimal', loss='hinge', n_iter=30, n_jobs=1,\n",
        "       penalty='l2', power_t=0.5, random_state=None, shuffle=True,\n",
        "       verbose=0, warm_start=False)"
       ]
      }
     ],
     "prompt_number": 205
    },
    {
     "cell_type": "code",
     "collapsed": false,
     "input": [
      "print(faster.score(trainX, yp))\n",
      "print(faster.score(testX, testY > ythresh))\n",
      "predTestY = faster.predict(testX)"
     ],
     "language": "python",
     "metadata": {},
     "outputs": [
      {
       "output_type": "stream",
       "stream": "stdout",
       "text": [
        "0.69246273768\n",
        "0.678598716932\n"
       ]
      }
     ],
     "prompt_number": 206
    },
    {
     "cell_type": "code",
     "collapsed": false,
     "input": [
      "ythresh=0.01\n",
      "tree = ExtraTreesClassifier(n_estimators=100, max_depth=5, max_features=4, class_weight='balanced')\n",
      "tree.fit(trainX, trainY > ythresh)"
     ],
     "language": "python",
     "metadata": {},
     "outputs": [
      {
       "metadata": {},
       "output_type": "pyout",
       "prompt_number": 215,
       "text": [
        "ExtraTreesClassifier(bootstrap=False, class_weight='balanced',\n",
        "           criterion='gini', max_depth=5, max_features=4,\n",
        "           max_leaf_nodes=None, min_samples_leaf=1, min_samples_split=2,\n",
        "           min_weight_fraction_leaf=0.0, n_estimators=100, n_jobs=1,\n",
        "           oob_score=False, random_state=None, verbose=0, warm_start=False)"
       ]
      }
     ],
     "prompt_number": 215
    },
    {
     "cell_type": "code",
     "collapsed": false,
     "input": [
      "model = adaboost\n",
      "\n",
      "print(model.score(trainX, trainY > ythresh))\n",
      "print(model.score(testX, testY > ythresh))\n",
      "predTestY = model.predict_proba(testX)[:,0]\n",
      "#predTestY = model.decision_function(testX)\n",
      "predTY = model.predict(testX)\n",
      "print(\"AUC:\", metrics.roc_auc_score(testY > ythresh, predTestY))\n",
      "print(\"AP:\", metrics.average_precision_score(testY > ythresh, predTestY))\n",
      "print(\"P:\", metrics.precision_score(testY > ythresh, predTY))\n",
      "print(\"R:\", metrics.recall_score(testY > ythresh, predTY))\n",
      "print(\"F1\", metrics.f1_score(testY > ythresh, predTY))"
     ],
     "language": "python",
     "metadata": {},
     "outputs": [
      {
       "output_type": "stream",
       "stream": "stdout",
       "text": [
        "0.863350836568\n",
        "0.835183449867"
       ]
      },
      {
       "output_type": "stream",
       "stream": "stdout",
       "text": [
        "\n",
        "AUC:"
       ]
      },
      {
       "output_type": "stream",
       "stream": "stdout",
       "text": [
        " 0.484249396954\n",
        "AP: 0.17662637244\n",
        "P: 0.0\n",
        "R: 0.0\n",
        "F1 0.0\n"
       ]
      }
     ],
     "prompt_number": 220
    },
    {
     "cell_type": "code",
     "collapsed": false,
     "input": [
      "fimp = dict((fid, tree.feature_importances_[fmap]) for (fid, fmap) in vocab.vocabulary_.items())\n",
      "\n",
      "sorted(fimp.items(), key=lambda x: -x[1])"
     ],
     "language": "python",
     "metadata": {},
     "outputs": [
      {
       "metadata": {},
       "output_type": "pyout",
       "prompt_number": 218,
       "text": [
        "[(15, 0.210035178504031),\n",
        " (11, 0.11619199760267283),\n",
        " (5, 0.1120343550335851),\n",
        " (3, 0.087280536655723037),\n",
        " (9, 0.086059973407864448),\n",
        " (4, 0.08495258512442852),\n",
        " (23, 0.075704758860725821),\n",
        " (6, 0.047982553398266015),\n",
        " (13, 0.043717899917474823),\n",
        " (12, 0.025042779207073339),\n",
        " (17, 0.018118505677940325),\n",
        " (22, 0.017623065018544565),\n",
        " (1, 0.015758702008663129),\n",
        " (20, 0.014789666846918898),\n",
        " (2, 0.013202674908650075),\n",
        " (21, 0.010463690376838957),\n",
        " (18, 0.0065084015364596228),\n",
        " (16, 0.0061402018266650486),\n",
        " (10, 0.0052749129584598485),\n",
        " (19, 0.0031175611290146068),\n",
        " (14, 0.0)]"
       ]
      }
     ],
     "prompt_number": 218
    },
    {
     "cell_type": "code",
     "collapsed": false,
     "input": [
      "adaboost = AdaBoostClassifier()\n",
      "adaboost.fit(trainX, yp)"
     ],
     "language": "python",
     "metadata": {},
     "outputs": [
      {
       "metadata": {},
       "output_type": "pyout",
       "prompt_number": 217,
       "text": [
        "AdaBoostClassifier(algorithm='SAMME.R', base_estimator=None,\n",
        "          learning_rate=1.0, n_estimators=50, random_state=None)"
       ]
      }
     ],
     "prompt_number": 217
    },
    {
     "cell_type": "code",
     "collapsed": false,
     "input": [
      "print(adaboost.score(trainX, yp))\n",
      "print(adaboost.score(testX, testY > ythresh))\n",
      "predTestY = adaboost.predict(testX)"
     ],
     "language": "python",
     "metadata": {},
     "outputs": [
      {
       "output_type": "stream",
       "stream": "stdout",
       "text": [
        "0.863350836568\n",
        "0.835183449867"
       ]
      },
      {
       "output_type": "stream",
       "stream": "stdout",
       "text": [
        "\n"
       ]
      }
     ],
     "prompt_number": 219
    },
    {
     "cell_type": "code",
     "collapsed": false,
     "input": [
      "Counter(tree.predict_proba(trainX)[:,0])"
     ],
     "language": "python",
     "metadata": {},
     "outputs": [
      {
       "metadata": {},
       "output_type": "pyout",
       "prompt_number": 121,
       "text": [
        "Counter({1.0: 145735, 0.0: 7565, 0.17195161446111717: 5})"
       ]
      }
     ],
     "prompt_number": 121
    },
    {
     "cell_type": "code",
     "collapsed": false,
     "input": [
      "probs = np.sort(adaboost.predict_proba(testX)[:,0])\n",
      "\n",
      "plt.plot(probs)\n",
      "plt.show()"
     ],
     "language": "python",
     "metadata": {},
     "outputs": [
      {
       "metadata": {},
       "output_type": "display_data",
       "png": "[encoded data removed]",
       "text": [
        "<matplotlib.figure.Figure at 0x7f0c92d32128>"
       ]
      }
     ],
     "prompt_number": 149
    },
    {
     "cell_type": "code",
     "collapsed": false,
     "input": [
      "test_pterms = defaultdict(list)\n",
      "train_pterms = defaultdict(list)\n",
      "model = tree\n",
      "\n",
      "for i, x in enumerate(model.predict(testX)):\n",
      "    if x:\n",
      "        test_pterms[testQs[i]].append(testTs[i])\n",
      "for i, x in enumerate(model.predict(trainX)):\n",
      "    if x:\n",
      "        train_pterms[trainQs[i]].append(trainTs[i])"
     ],
     "language": "python",
     "metadata": {},
     "outputs": [],
     "prompt_number": 156
    },
    {
     "cell_type": "code",
     "collapsed": false,
     "input": [
      "pred_json = {'train': train_pterms, 'test': test_pterms}"
     ],
     "language": "python",
     "metadata": {},
     "outputs": [],
     "prompt_number": 160
    },
    {
     "cell_type": "code",
     "collapsed": false,
     "input": [
      "import json\n",
      "\n",
      "with open(\"predictions.json\", \"w\") as fp:\n",
      "    fp.write(json.dumps(pred_json))"
     ],
     "language": "python",
     "metadata": {},
     "outputs": [],
     "prompt_number": 163
    },
    {
     "cell_type": "code",
     "collapsed": false,
     "input": [],
     "language": "python",
     "metadata": {},
     "outputs": []
    }
   ],
   "metadata": {}
  }
 ]
}